{
 "cells": [
  {
   "cell_type": "markdown",
   "metadata": {},
   "source": [
    "# Immobiliare.it project"
   ]
  },
  {
   "cell_type": "markdown",
   "metadata": {},
   "source": [
    "## Context\n",
    "\n",
    "\n",
    "Recently I have been reading few books on the british real estate business model \"Buy-to-Let\" and I really got fascinated by it. Literally \"Buy to let\" refers to the purchase of a property specifically to let out, that is to rent it out.\n",
    "\n",
    "I started wondering whether it could be possible to implement this businees in  different area, considering that the house market in the UK is quite inflated and in a city like London (the one I am currently living in), the price are usually really high. \n",
    "\n",
    "Having lived for most of my life in Rome and almost an year in Barcelona, I decided to scrape data about housing market of those two cities, analyse it and understand whther the `buy to let` model can be implemented there (feasibility) and in case possible investment required.\n",
    "\n",
    "For each city I will try to answer to the following questions:\n",
    "\n",
    "* Are there areas within the city where the `Buy-to-let` businees can be implemented?\n",
    "\n",
    "* What would be the capital required for the investment? \n",
    "\n",
    "* what will be the forecasted ROI on the investment?"
   ]
  },
  {
   "cell_type": "code",
   "execution_count": 2,
   "metadata": {},
   "outputs": [],
   "source": [
    "import pandas as pd\n",
    "import numpy as np\n",
    "import matplotlib.pyplot as plt\n",
    "import seaborn as sns\n",
    "%matplotlib inline"
   ]
  },
  {
   "cell_type": "markdown",
   "metadata": {},
   "source": [
    "### Import scraped files csv and concatenate them\n",
    "\n",
    "To get the info required to start this project, I used ParseHub to scrape relevant data from Immobiliare.it website. \n",
    "\n",
    "Immobiliare.it is the leading real estate portal in Italy for both buying and renting.\n",
    "\n",
    "For this research, I decided to focus mainly on central neighboroughs or at least the ones that are just few kms away from the city center. \n",
    "\n",
    "I divided my scraping into 4 price range searches, hence obtaining 4 different .csv files."
   ]
  },
  {
   "cell_type": "code",
   "execution_count": 19,
   "metadata": {},
   "outputs": [],
   "source": [
    "# Import csv files into Dataframe \n",
    "df1 = pd.read_csv(r'C:\\Users\\david\\OneDrive\\Desktop\\Python\\ParseHub\\Projects_CSV\\03.immobiliare\\Immobiliare_to280000.csv')\n",
    "df2 = pd.read_csv(r'C:\\Users\\david\\OneDrive\\Desktop\\Python\\ParseHub\\Projects_CSV\\03.immobiliare\\Immobiliare_from281000_to445000.csv')\n",
    "df3 = pd.read_csv(r'C:\\Users\\david\\OneDrive\\Desktop\\Python\\ParseHub\\Projects_CSV\\03.immobiliare\\Immobiliare_from445000to1000000.csv')\n",
    "df4 = pd.read_csv(r'C:\\Users\\david\\OneDrive\\Desktop\\Python\\ParseHub\\Projects_CSV\\03.immobiliare\\Immobiliare_over_1Million.csv')\n"
   ]
  },
  {
   "cell_type": "code",
   "execution_count": 20,
   "metadata": {},
   "outputs": [
    {
     "data": {
      "text/html": [
       "<div>\n",
       "<style scoped>\n",
       "    .dataframe tbody tr th:only-of-type {\n",
       "        vertical-align: middle;\n",
       "    }\n",
       "\n",
       "    .dataframe tbody tr th {\n",
       "        vertical-align: top;\n",
       "    }\n",
       "\n",
       "    .dataframe thead th {\n",
       "        text-align: right;\n",
       "    }\n",
       "</style>\n",
       "<table border=\"1\" class=\"dataframe\">\n",
       "  <thead>\n",
       "    <tr style=\"text-align: right;\">\n",
       "      <th></th>\n",
       "      <th>property_name_name</th>\n",
       "      <th>property_name_url</th>\n",
       "      <th>property_name_price</th>\n",
       "      <th>property_name_rooms</th>\n",
       "      <th>property_name_surface</th>\n",
       "      <th>property_name_bathrooms</th>\n",
       "      <th>property_name_floor</th>\n",
       "      <th>property_name_description</th>\n",
       "      <th>property_name_original_price</th>\n",
       "      <th>property_name_price_reduction</th>\n",
       "    </tr>\n",
       "  </thead>\n",
       "  <tbody>\n",
       "    <tr>\n",
       "      <th>0</th>\n",
       "      <td>Penthouse via di Santa Maria della Speranza 11...</td>\n",
       "      <td>https://www.immobiliare.it/en/annunci/85455828/</td>\n",
       "      <td>€ 235.000</td>\n",
       "      <td>2</td>\n",
       "      <td>52 m2\\nsurface</td>\n",
       "      <td>1</td>\n",
       "      <td>4\\nfloor</td>\n",
       "      <td>NaN</td>\n",
       "      <td>NaN</td>\n",
       "      <td>NaN</td>\n",
       "    </tr>\n",
       "    <tr>\n",
       "      <th>1</th>\n",
       "      <td>3-room flat via Eugenio Torelli Viollier, Piet...</td>\n",
       "      <td>https://www.immobiliare.it/en/annunci/85452104/</td>\n",
       "      <td>€ 238.000</td>\n",
       "      <td>3</td>\n",
       "      <td>87 m2\\nsurface</td>\n",
       "      <td>1</td>\n",
       "      <td>2\\nfloor</td>\n",
       "      <td>Tiburtina, apartment for sale adjacent to Larg...</td>\n",
       "      <td>NaN</td>\n",
       "      <td>NaN</td>\n",
       "    </tr>\n",
       "    <tr>\n",
       "      <th>2</th>\n",
       "      <td>2-room flat via Satrico, San Giovanni, Roma</td>\n",
       "      <td>https://www.immobiliare.it/en/annunci/85396286/</td>\n",
       "      <td>€ 255.000</td>\n",
       "      <td>2</td>\n",
       "      <td>60 m2\\nsurface</td>\n",
       "      <td>1</td>\n",
       "      <td>5\\nfloor</td>\n",
       "      <td>S. Giovanni, Two-room apartment for sale on th...</td>\n",
       "      <td>NaN</td>\n",
       "      <td>NaN</td>\n",
       "    </tr>\n",
       "    <tr>\n",
       "      <th>3</th>\n",
       "      <td>2-room flat piazza Giovanni da Triora, Garbate...</td>\n",
       "      <td>https://www.immobiliare.it/en/annunci/85393966/</td>\n",
       "      <td>€ 245.000</td>\n",
       "      <td>2</td>\n",
       "      <td>55 m2\\nsurface</td>\n",
       "      <td>1</td>\n",
       "      <td>R\\nfloor</td>\n",
       "      <td>NaN</td>\n",
       "      <td>NaN</td>\n",
       "      <td>NaN</td>\n",
       "    </tr>\n",
       "    <tr>\n",
       "      <th>4</th>\n",
       "      <td>Studio via Morlupo 13, Fleming, Roma</td>\n",
       "      <td>https://www.immobiliare.it/en/annunci/85282655/</td>\n",
       "      <td>€ 109.000</td>\n",
       "      <td>1</td>\n",
       "      <td>23 m2\\nsurface</td>\n",
       "      <td>1</td>\n",
       "      <td>T\\nfloor</td>\n",
       "      <td>NaN</td>\n",
       "      <td>NaN</td>\n",
       "      <td>NaN</td>\n",
       "    </tr>\n",
       "  </tbody>\n",
       "</table>\n",
       "</div>"
      ],
      "text/plain": [
       "                                  property_name_name  \\\n",
       "0  Penthouse via di Santa Maria della Speranza 11...   \n",
       "1  3-room flat via Eugenio Torelli Viollier, Piet...   \n",
       "2        2-room flat via Satrico, San Giovanni, Roma   \n",
       "3  2-room flat piazza Giovanni da Triora, Garbate...   \n",
       "4               Studio via Morlupo 13, Fleming, Roma   \n",
       "\n",
       "                                 property_name_url property_name_price  \\\n",
       "0  https://www.immobiliare.it/en/annunci/85455828/           € 235.000   \n",
       "1  https://www.immobiliare.it/en/annunci/85452104/           € 238.000   \n",
       "2  https://www.immobiliare.it/en/annunci/85396286/           € 255.000   \n",
       "3  https://www.immobiliare.it/en/annunci/85393966/           € 245.000   \n",
       "4  https://www.immobiliare.it/en/annunci/85282655/           € 109.000   \n",
       "\n",
       "  property_name_rooms property_name_surface property_name_bathrooms  \\\n",
       "0                   2        52 m2\\nsurface                       1   \n",
       "1                   3        87 m2\\nsurface                       1   \n",
       "2                   2        60 m2\\nsurface                       1   \n",
       "3                   2        55 m2\\nsurface                       1   \n",
       "4                   1        23 m2\\nsurface                       1   \n",
       "\n",
       "  property_name_floor                          property_name_description  \\\n",
       "0            4\\nfloor                                                NaN   \n",
       "1            2\\nfloor  Tiburtina, apartment for sale adjacent to Larg...   \n",
       "2            5\\nfloor  S. Giovanni, Two-room apartment for sale on th...   \n",
       "3            R\\nfloor                                                NaN   \n",
       "4            T\\nfloor                                                NaN   \n",
       "\n",
       "  property_name_original_price property_name_price_reduction  \n",
       "0                          NaN                           NaN  \n",
       "1                          NaN                           NaN  \n",
       "2                          NaN                           NaN  \n",
       "3                          NaN                           NaN  \n",
       "4                          NaN                           NaN  "
      ]
     },
     "execution_count": 20,
     "metadata": {},
     "output_type": "execute_result"
    }
   ],
   "source": [
    "# Concatenate the 4 different files into one dataframe\n",
    "df = pd.concat([df1, df2, df3, df4])\n",
    "df.head()"
   ]
  },
  {
   "cell_type": "code",
   "execution_count": 21,
   "metadata": {},
   "outputs": [
    {
     "data": {
      "text/plain": [
       "Index(['property_name_name', 'property_name_url', 'property_name_price',\n",
       "       'property_name_rooms', 'property_name_surface',\n",
       "       'property_name_bathrooms', 'property_name_floor',\n",
       "       'property_name_description', 'property_name_original_price',\n",
       "       'property_name_price_reduction'],\n",
       "      dtype='object')"
      ]
     },
     "execution_count": 21,
     "metadata": {},
     "output_type": "execute_result"
    }
   ],
   "source": [
    "# Check columns and their names\n",
    "df.columns"
   ]
  },
  {
   "cell_type": "code",
   "execution_count": 22,
   "metadata": {},
   "outputs": [
    {
     "data": {
      "text/html": [
       "<div>\n",
       "<style scoped>\n",
       "    .dataframe tbody tr th:only-of-type {\n",
       "        vertical-align: middle;\n",
       "    }\n",
       "\n",
       "    .dataframe tbody tr th {\n",
       "        vertical-align: top;\n",
       "    }\n",
       "\n",
       "    .dataframe thead th {\n",
       "        text-align: right;\n",
       "    }\n",
       "</style>\n",
       "<table border=\"1\" class=\"dataframe\">\n",
       "  <thead>\n",
       "    <tr style=\"text-align: right;\">\n",
       "      <th></th>\n",
       "      <th>property</th>\n",
       "      <th>url</th>\n",
       "      <th>price</th>\n",
       "      <th>rooms</th>\n",
       "      <th>surface</th>\n",
       "      <th>bathrooms</th>\n",
       "      <th>floor</th>\n",
       "      <th>description</th>\n",
       "      <th>original_price</th>\n",
       "      <th>price_reduction</th>\n",
       "    </tr>\n",
       "  </thead>\n",
       "  <tbody>\n",
       "    <tr>\n",
       "      <th>0</th>\n",
       "      <td>Penthouse via di Santa Maria della Speranza 11...</td>\n",
       "      <td>https://www.immobiliare.it/en/annunci/85455828/</td>\n",
       "      <td>€ 235.000</td>\n",
       "      <td>2</td>\n",
       "      <td>52 m2\\nsurface</td>\n",
       "      <td>1</td>\n",
       "      <td>4\\nfloor</td>\n",
       "      <td>NaN</td>\n",
       "      <td>NaN</td>\n",
       "      <td>NaN</td>\n",
       "    </tr>\n",
       "    <tr>\n",
       "      <th>1</th>\n",
       "      <td>3-room flat via Eugenio Torelli Viollier, Piet...</td>\n",
       "      <td>https://www.immobiliare.it/en/annunci/85452104/</td>\n",
       "      <td>€ 238.000</td>\n",
       "      <td>3</td>\n",
       "      <td>87 m2\\nsurface</td>\n",
       "      <td>1</td>\n",
       "      <td>2\\nfloor</td>\n",
       "      <td>Tiburtina, apartment for sale adjacent to Larg...</td>\n",
       "      <td>NaN</td>\n",
       "      <td>NaN</td>\n",
       "    </tr>\n",
       "    <tr>\n",
       "      <th>2</th>\n",
       "      <td>2-room flat via Satrico, San Giovanni, Roma</td>\n",
       "      <td>https://www.immobiliare.it/en/annunci/85396286/</td>\n",
       "      <td>€ 255.000</td>\n",
       "      <td>2</td>\n",
       "      <td>60 m2\\nsurface</td>\n",
       "      <td>1</td>\n",
       "      <td>5\\nfloor</td>\n",
       "      <td>S. Giovanni, Two-room apartment for sale on th...</td>\n",
       "      <td>NaN</td>\n",
       "      <td>NaN</td>\n",
       "    </tr>\n",
       "    <tr>\n",
       "      <th>3</th>\n",
       "      <td>2-room flat piazza Giovanni da Triora, Garbate...</td>\n",
       "      <td>https://www.immobiliare.it/en/annunci/85393966/</td>\n",
       "      <td>€ 245.000</td>\n",
       "      <td>2</td>\n",
       "      <td>55 m2\\nsurface</td>\n",
       "      <td>1</td>\n",
       "      <td>R\\nfloor</td>\n",
       "      <td>NaN</td>\n",
       "      <td>NaN</td>\n",
       "      <td>NaN</td>\n",
       "    </tr>\n",
       "    <tr>\n",
       "      <th>4</th>\n",
       "      <td>Studio via Morlupo 13, Fleming, Roma</td>\n",
       "      <td>https://www.immobiliare.it/en/annunci/85282655/</td>\n",
       "      <td>€ 109.000</td>\n",
       "      <td>1</td>\n",
       "      <td>23 m2\\nsurface</td>\n",
       "      <td>1</td>\n",
       "      <td>T\\nfloor</td>\n",
       "      <td>NaN</td>\n",
       "      <td>NaN</td>\n",
       "      <td>NaN</td>\n",
       "    </tr>\n",
       "  </tbody>\n",
       "</table>\n",
       "</div>"
      ],
      "text/plain": [
       "                                            property  \\\n",
       "0  Penthouse via di Santa Maria della Speranza 11...   \n",
       "1  3-room flat via Eugenio Torelli Viollier, Piet...   \n",
       "2        2-room flat via Satrico, San Giovanni, Roma   \n",
       "3  2-room flat piazza Giovanni da Triora, Garbate...   \n",
       "4               Studio via Morlupo 13, Fleming, Roma   \n",
       "\n",
       "                                               url      price rooms  \\\n",
       "0  https://www.immobiliare.it/en/annunci/85455828/  € 235.000     2   \n",
       "1  https://www.immobiliare.it/en/annunci/85452104/  € 238.000     3   \n",
       "2  https://www.immobiliare.it/en/annunci/85396286/  € 255.000     2   \n",
       "3  https://www.immobiliare.it/en/annunci/85393966/  € 245.000     2   \n",
       "4  https://www.immobiliare.it/en/annunci/85282655/  € 109.000     1   \n",
       "\n",
       "          surface bathrooms     floor  \\\n",
       "0  52 m2\\nsurface         1  4\\nfloor   \n",
       "1  87 m2\\nsurface         1  2\\nfloor   \n",
       "2  60 m2\\nsurface         1  5\\nfloor   \n",
       "3  55 m2\\nsurface         1  R\\nfloor   \n",
       "4  23 m2\\nsurface         1  T\\nfloor   \n",
       "\n",
       "                                         description original_price  \\\n",
       "0                                                NaN            NaN   \n",
       "1  Tiburtina, apartment for sale adjacent to Larg...            NaN   \n",
       "2  S. Giovanni, Two-room apartment for sale on th...            NaN   \n",
       "3                                                NaN            NaN   \n",
       "4                                                NaN            NaN   \n",
       "\n",
       "  price_reduction  \n",
       "0             NaN  \n",
       "1             NaN  \n",
       "2             NaN  \n",
       "3             NaN  \n",
       "4             NaN  "
      ]
     },
     "execution_count": 22,
     "metadata": {},
     "output_type": "execute_result"
    }
   ],
   "source": [
    "# Rename df columns\n",
    "df = df.rename(columns={'property_name_name': 'property', 'property_name_url':'url', 'property_name_price':'price',\n",
    "       'property_name_rooms':'rooms', 'property_name_surface':'surface',\n",
    "       'property_name_bathrooms':'bathrooms', 'property_name_floor':'floor',\n",
    "       'property_name_description':'description', 'property_name_original_price':'original_price',\n",
    "       'property_name_price_reduction':'price_reduction'})\n",
    "df.head()"
   ]
  },
  {
   "cell_type": "markdown",
   "metadata": {},
   "source": [
    "## Data Cleaning\n",
    "\n",
    "### Area\n",
    "\n",
    "Checking the property column, I noticed that each entry generally ends with the city name after a comma and before that, between 2 commas, is specified the area where the property is located. Using string's methods I will pull out the `area` information from `property` and create a proper column for it. "
   ]
  },
  {
   "cell_type": "code",
   "execution_count": 23,
   "metadata": {},
   "outputs": [
    {
     "data": {
      "text/plain": [
       "0    Penthouse via di Santa Maria della Speranza 11...\n",
       "0     3-room flat via Gaetano Casati, Garbatella, Roma\n",
       "0    Apartment via Aurelia Antica 200, Gregorio VII...\n",
       "0                 Penthouse via Germanico, Prati, Roma\n",
       "Name: property, dtype: object"
      ]
     },
     "execution_count": 23,
     "metadata": {},
     "output_type": "execute_result"
    }
   ],
   "source": [
    "df.property[0]"
   ]
  },
  {
   "cell_type": "code",
   "execution_count": 24,
   "metadata": {},
   "outputs": [],
   "source": [
    "# Pull out the area of Rome from property\n",
    "# First remove Rome from the string\n",
    "df['area'] = df['property'].apply(lambda x: x.split()[:-1])\n",
    "# Join again together list elements to get a string object\n",
    "df['area'] = df['area'].apply(lambda x: ' '.join(x))\n",
    "#  Get the part after the comma\n",
    "df['area'] = df['area'].apply(lambda x: x.split(',')[1])\n",
    "# Turn the column dtype to string\n",
    "df['area'] =df['area'].astype(str)\n",
    "# Add to n/a all those element that not represent a geagraphic area\n",
    "df['area'] = df['area'].apply(lambda x: 'nan' if 'sq.m.' in x.lower() else x)\n",
    "df['area'] = df['area'].apply(lambda x: 'nan' if 'floor' in x.lower() else x)\n",
    "df['area'] = df['area'].apply(lambda x: 'nan' if ' semi-basement' in x.lower() else x)\n",
    "df['area'] = df['area'].apply(lambda x: 'nan' if 'condition' in x.lower() else x)\n",
    "df['area'] = df['area'].apply(lambda x: 'nan' if  'mezzanine'  in x.lower() else x)\n",
    "df['area'] = df['area'].apply(lambda x: 'nan' if 'multiple levels'  in x.lower() else x)\n",
    "df['area'] = df['area'].apply(lambda x: 'nan' if 'refurbished' in x.lower() else x)\n",
    "# Remove street address number "
   ]
  },
  {
   "cell_type": "code",
   "execution_count": 25,
   "metadata": {},
   "outputs": [
    {
     "data": {
      "text/plain": [
       "nan                            775\n",
       " Talenti - Monte Sacro         516\n",
       " Africano - Villa Chigi        468\n",
       " Gregorio VII - Piccolomini    419\n",
       " Marconi                       413\n",
       "                              ... \n",
       " -A                              1\n",
       "                                 1\n",
       " -B                              1\n",
       " B                               1\n",
       " --                              1\n",
       "Name: area, Length: 106, dtype: int64"
      ]
     },
     "execution_count": 25,
     "metadata": {},
     "output_type": "execute_result"
    }
   ],
   "source": [
    "# Use regex to replace digits with empty string\n",
    "import re\n",
    "pattern = r'[0-9]'\n",
    "# Match all digits in the string and replace them by empty string\n",
    "df['area'] = df['area'].apply(lambda x: re.sub(pattern, '', x))\n",
    "df.area.value_counts()"
   ]
  },
  {
   "cell_type": "code",
   "execution_count": 26,
   "metadata": {},
   "outputs": [
    {
     "data": {
      "text/plain": [
       "nan                            1451\n",
       " Talenti - Monte Sacro          516\n",
       " Africano - Villa Chigi         468\n",
       " Gregorio VII - Piccolomini     419\n",
       " Marconi                        413\n",
       "                               ... \n",
       " Valle Aurelia                   29\n",
       " Villaggio Olimpico              28\n",
       " Largo Argentina                 20\n",
       " Tor di Quinto                    3\n",
       " quartiere trieste                1\n",
       "Name: area, Length: 89, dtype: int64"
      ]
     },
     "execution_count": 26,
     "metadata": {},
     "output_type": "execute_result"
    }
   ],
   "source": [
    "# Replace all values that have lenght <= 3 (like -A or -B) with nan \n",
    "df['area'] = df['area'].apply(lambda x: 'nan' if len(x) <= 3 else x)\n",
    "df['area'].value_counts()"
   ]
  },
  {
   "cell_type": "markdown",
   "metadata": {},
   "source": [
    "## Price\n",
    "\n",
    "In order to work with the `price` column as numerical feature, some manipulation and cleaning duties must be implemented. "
   ]
  },
  {
   "cell_type": "code",
   "execution_count": 27,
   "metadata": {},
   "outputs": [
    {
     "data": {
      "text/plain": [
       "€ 350.000                      195\n",
       "€ 299.000                      192\n",
       "€ 249.000                      184\n",
       "€ 395.000                      176\n",
       "€ 295.000                      168\n",
       "                              ... \n",
       "€ 68.000\\n€ 88.000(-22.7%)       1\n",
       "€ 316.500                        1\n",
       "€ 470.000\\n€ 495.000(-5.1%)      1\n",
       "€ 568.000                        1\n",
       "€ 170.500                        1\n",
       "Name: price, Length: 1449, dtype: int64"
      ]
     },
     "execution_count": 27,
     "metadata": {},
     "output_type": "execute_result"
    }
   ],
   "source": [
    "# Let's check some of the values withnin the column\n",
    "df.price.value_counts()"
   ]
  },
  {
   "cell_type": "code",
   "execution_count": 28,
   "metadata": {},
   "outputs": [
    {
     "data": {
      "text/plain": [
       " 350000                   195\n",
       " 299000                   192\n",
       " 249000                   184\n",
       " 395000                   176\n",
       " 295000                   168\n",
       "                         ... \n",
       " 335025                     1\n",
       " 2359000                    1\n",
       " 650000\\n 695000(-65%)      1\n",
       " 54000                      1\n",
       " 251000                     1\n",
       "Name: price, Length: 1449, dtype: int64"
      ]
     },
     "execution_count": 28,
     "metadata": {},
     "output_type": "execute_result"
    }
   ],
   "source": [
    "# Remove the '€' char and the '.' from the column and then convert it to numerical\n",
    "df['price'] = df['price'].apply(lambda x: x.replace('€', '').replace('.', ''))\n",
    "df.price.value_counts()"
   ]
  },
  {
   "cell_type": "code",
   "execution_count": 29,
   "metadata": {},
   "outputs": [],
   "source": [
    "# Some entries have an extra part which has to be removed\n",
    "df['price'] = df['price'].apply(lambda x: x.split()[0])"
   ]
  },
  {
   "cell_type": "code",
   "execution_count": 30,
   "metadata": {},
   "outputs": [
    {
     "data": {
      "text/plain": [
       "299000     199\n",
       "350000     199\n",
       "249000     189\n",
       "395000     178\n",
       "295000     174\n",
       "          ... \n",
       "111375       1\n",
       "4400000      1\n",
       "1524000      1\n",
       "2690000      1\n",
       "3190000      1\n",
       "Name: price, Length: 1122, dtype: int64"
      ]
     },
     "execution_count": 30,
     "metadata": {},
     "output_type": "execute_result"
    }
   ],
   "source": [
    "# Check again the price column values\n",
    "df.price.value_counts()"
   ]
  },
  {
   "cell_type": "code",
   "execution_count": 31,
   "metadata": {},
   "outputs": [
    {
     "data": {
      "text/plain": [
       "property            object\n",
       "url                 object\n",
       "price              float64\n",
       "rooms               object\n",
       "surface             object\n",
       "bathrooms           object\n",
       "floor               object\n",
       "description         object\n",
       "original_price      object\n",
       "price_reduction     object\n",
       "area                object\n",
       "dtype: object"
      ]
     },
     "execution_count": 31,
     "metadata": {},
     "output_type": "execute_result"
    }
   ],
   "source": [
    "# Turn the column to numerical\n",
    "df['price'] = df['price'].astype(float)\n",
    "df.dtypes"
   ]
  },
  {
   "cell_type": "markdown",
   "metadata": {},
   "source": [
    "### Rooms\n",
    "\n",
    "Having a first glance to the `rooms` column, I noticed that some special characters '+' and unrealistic values (i.e. 1.580) are included."
   ]
  },
  {
   "cell_type": "code",
   "execution_count": 32,
   "metadata": {},
   "outputs": [
    {
     "data": {
      "text/plain": [
       "3      4991\n",
       "2      3588\n",
       "4      3239\n",
       "5+     1967\n",
       "5      1661\n",
       "       ... \n",
       "84        1\n",
       "76        1\n",
       "71        1\n",
       "106       1\n",
       "32        1\n",
       "Name: rooms, Length: 70, dtype: int64"
      ]
     },
     "execution_count": 32,
     "metadata": {},
     "output_type": "execute_result"
    }
   ],
   "source": [
    "# Let's have a quick look to the column\n",
    "df.rooms.value_counts()"
   ]
  },
  {
   "cell_type": "code",
   "execution_count": 33,
   "metadata": {},
   "outputs": [],
   "source": [
    "# Remove the special char '+'\n",
    "df['rooms'] = df['rooms'].apply(lambda x: x.replace('+', ''))\n",
    "# Convert the feature to numerical\n",
    "df['rooms'] = df['rooms'].astype(float)\n",
    "# Replace values greater than 5 with 'NaN' \n",
    "df['rooms'] = df['rooms'].apply(lambda x: 'NaN' if x > 5  else x)\n",
    "# Create a dummy feature to save the missing values\n",
    "df['room_is_missing'] = df['rooms'].apply(lambda x: 1 if x == 'NaN' else 0)"
   ]
  },
  {
   "cell_type": "code",
   "execution_count": 34,
   "metadata": {},
   "outputs": [
    {
     "data": {
      "text/plain": [
       "3.0     4991\n",
       "5.0     3628\n",
       "2.0     3588\n",
       "4.0     3239\n",
       "1.0      647\n",
       "1.58       1\n",
       "1.15       1\n",
       "1.22       1\n",
       "1.3        1\n",
       "2.5        1\n",
       "2.4        1\n",
       "Name: rooms, dtype: int64"
      ]
     },
     "execution_count": 34,
     "metadata": {},
     "output_type": "execute_result"
    }
   ],
   "source": [
    "# Convert again the column to string and then replace the 'NaN' with the numerical nan\n",
    "df['rooms'] = df['rooms'].astype(str)\n",
    "df= df.replace('NaN', np.nan)\n",
    "df.rooms.value_counts()"
   ]
  },
  {
   "cell_type": "code",
   "execution_count": 36,
   "metadata": {},
   "outputs": [
    {
     "data": {
      "text/plain": [
       "127"
      ]
     },
     "execution_count": 36,
     "metadata": {},
     "output_type": "execute_result"
    }
   ],
   "source": [
    "# Check how many nan values we have within the column\n",
    "df.rooms.isna().sum()"
   ]
  },
  {
   "cell_type": "code",
   "execution_count": 64,
   "metadata": {},
   "outputs": [
    {
     "data": {
      "text/plain": [
       "3.00    5118\n",
       "5.00    3628\n",
       "2.00    3588\n",
       "4.00    3239\n",
       "1.00     647\n",
       "2.40       1\n",
       "1.15       1\n",
       "1.30       1\n",
       "1.58       1\n",
       "1.22       1\n",
       "2.50       1\n",
       "Name: rooms, dtype: int64"
      ]
     },
     "execution_count": 64,
     "metadata": {},
     "output_type": "execute_result"
    }
   ],
   "source": [
    "# Checking the dataframe, there are still 127 nan values. \n",
    "# First fill the nan values with column median\n",
    "df['rooms'] = df['rooms'].fillna(df.rooms.median())\n",
    "# Finally convert the column to numerical\n",
    "df['rooms'] = df['rooms'].astype(float)\n",
    "df.rooms.value_counts()"
   ]
  },
  {
   "cell_type": "markdown",
   "metadata": {},
   "source": [
    "### Surface"
   ]
  },
  {
   "cell_type": "code",
   "execution_count": 66,
   "metadata": {},
   "outputs": [
    {
     "data": {
      "text/plain": [
       "100 m2\\nsurface      602\n",
       "90 m2\\nsurface       585\n",
       "80 m2\\nsurface       525\n",
       "120 m2\\nsurface      516\n",
       "70 m2\\nsurface       503\n",
       "                    ... \n",
       "6\\nfloor               1\n",
       "469 m2\\nsurface        1\n",
       "311 m2\\nsurface        1\n",
       "1.550 m2\\nsurface      1\n",
       "266 m2\\nsurface        1\n",
       "Name: surface, Length: 459, dtype: int64"
      ]
     },
     "execution_count": 66,
     "metadata": {},
     "output_type": "execute_result"
    }
   ],
   "source": [
    "# Let's check first entries for Surface cdf.isna().sum()olumn\n",
    "df.surface.value_counts()"
   ]
  },
  {
   "cell_type": "code",
   "execution_count": 67,
   "metadata": {},
   "outputs": [
    {
     "data": {
      "text/plain": [
       "100      602\n",
       "90       585\n",
       "80       525\n",
       "120      516\n",
       "70       503\n",
       "        ... \n",
       "460        1\n",
       "535        1\n",
       "2.740      1\n",
       "445        1\n",
       "1.317      1\n",
       "Name: surface, Length: 451, dtype: int64"
      ]
     },
     "execution_count": 67,
     "metadata": {},
     "output_type": "execute_result"
    }
   ],
   "source": [
    "# Extract just the number from the string\n",
    "# First convert all values to string dtype\n",
    "df['surface'] = df['surface'].astype(str)\n",
    "# Split the string and pull out first element\n",
    "df['surface'] = df['surface'].apply(lambda x: x.split()[0])\n",
    "df.surface.value_counts()"
   ]
  },
  {
   "cell_type": "code",
   "execution_count": 68,
   "metadata": {},
   "outputs": [],
   "source": [
    "# Removing not numerical entries\n",
    "df['surface'] = df['surface'].str.extract('(\\d+)')\n",
    "# Convert again the column to float\n",
    "df['surface'] = df['surface'].astype(float)"
   ]
  },
  {
   "cell_type": "code",
   "execution_count": 69,
   "metadata": {},
   "outputs": [
    {
     "data": {
      "text/plain": [
       "100.0    602\n",
       "90.0     585\n",
       "80.0     525\n",
       "120.0    516\n",
       "70.0     503\n",
       "        ... \n",
       "262.0      1\n",
       "343.0      1\n",
       "405.0      1\n",
       "258.0      1\n",
       "327.0      1\n",
       "Name: surface, Length: 423, dtype: int64"
      ]
     },
     "execution_count": 69,
     "metadata": {},
     "output_type": "execute_result"
    }
   ],
   "source": [
    "df.surface.value_counts()"
   ]
  },
  {
   "cell_type": "markdown",
   "metadata": {},
   "source": [
    "###  Bathrooms"
   ]
  },
  {
   "cell_type": "code",
   "execution_count": 70,
   "metadata": {},
   "outputs": [
    {
     "data": {
      "text/plain": [
       "1             7640\n",
       "2             5791\n",
       "3             1463\n",
       "3+             839\n",
       "4               77\n",
       "T               68\n",
       "5               57\n",
       "6               27\n",
       "S               25\n",
       "7               17\n",
       "R               14\n",
       "8                7\n",
       "guaranteed       5\n",
       "A                3\n",
       "9                1\n",
       "10               1\n",
       "Name: bathrooms, dtype: int64"
      ]
     },
     "execution_count": 70,
     "metadata": {},
     "output_type": "execute_result"
    }
   ],
   "source": [
    "# Check values within the Bathrooms column\n",
    "df['bathrooms'].value_counts()"
   ]
  },
  {
   "cell_type": "code",
   "execution_count": 71,
   "metadata": {},
   "outputs": [
    {
     "data": {
      "text/plain": [
       "1      7640\n",
       "2      5791\n",
       "3      2302\n",
       "2.0     306\n",
       "4        77\n",
       "5        57\n",
       "6        27\n",
       "7        17\n",
       "8         7\n",
       "9         1\n",
       "10        1\n",
       "Name: bathrooms, dtype: int64"
      ]
     },
     "execution_count": 71,
     "metadata": {},
     "output_type": "execute_result"
    }
   ],
   "source": [
    "# \n",
    "df['bathrooms'] = df['bathrooms'].astype(str)\n",
    "df['bathrooms'] = df['bathrooms'].apply(lambda x: x.replace('+','').replace('T', '').replace('S', '').replace('R', '').replace('guaranteed', '').replace('A', '').replace('nan', ''))\n",
    "df['bathrooms'] = df['bathrooms'].apply(lambda x: 'NaN' if x == '' else x)\n",
    "# Create dummy column to record missing values\n",
    "df['bathroom_is_missing'] = df['bathrooms'].apply(lambda x: 1 if x == 'NaN' else 0)\n",
    "df= df.replace('NaN', np.nan)\n",
    "df['bathrooms'] = df['bathrooms'].fillna(df.bathrooms.median())\n",
    "df.bathrooms.value_counts()"
   ]
  },
  {
   "cell_type": "code",
   "execution_count": 72,
   "metadata": {},
   "outputs": [],
   "source": [
    "df['bathrooms'] = df['bathrooms'].astype(int)"
   ]
  },
  {
   "cell_type": "code",
   "execution_count": 73,
   "metadata": {},
   "outputs": [
    {
     "data": {
      "text/plain": [
       "1     7640\n",
       "2     6097\n",
       "3     2302\n",
       "4       77\n",
       "5       57\n",
       "6       27\n",
       "7       17\n",
       "8        7\n",
       "10       1\n",
       "9        1\n",
       "Name: bathrooms, dtype: int64"
      ]
     },
     "execution_count": 73,
     "metadata": {},
     "output_type": "execute_result"
    }
   ],
   "source": [
    "df['bathrooms'].value_counts()"
   ]
  },
  {
   "cell_type": "markdown",
   "metadata": {},
   "source": [
    "### Floor\n",
    "\n",
    "From the Immobiliare website I got the following acronym translation:\n",
    "\n",
    "* T: Ground floor\n",
    "* R: Mezzanine floor\n",
    "* S: Semi-Basement\n",
    "* A: Penthouse"
   ]
  },
  {
   "cell_type": "code",
   "execution_count": 74,
   "metadata": {},
   "outputs": [
    {
     "data": {
      "text/plain": [
       "Series([], Name: url, dtype: object)"
      ]
     },
     "execution_count": 74,
     "metadata": {},
     "output_type": "execute_result"
    }
   ],
   "source": [
    "df[df['floor'] == 'A'] ['url']"
   ]
  },
  {
   "cell_type": "code",
   "execution_count": 75,
   "metadata": {},
   "outputs": [
    {
     "data": {
      "text/plain": [
       "['4', 'floor']"
      ]
     },
     "execution_count": 75,
     "metadata": {},
     "output_type": "execute_result"
    }
   ],
   "source": [
    "df.floor.iloc[0].split()"
   ]
  },
  {
   "cell_type": "code",
   "execution_count": 76,
   "metadata": {},
   "outputs": [
    {
     "data": {
      "text/plain": [
       "1           2920\n",
       "2           2660\n",
       "3           2103\n",
       "T           1814\n",
       "4           1648\n",
       "nan         1440\n",
       "5           1034\n",
       "R            559\n",
       "6            550\n",
       "S            430\n",
       "7            364\n",
       "property     332\n",
       "8            196\n",
       "A             90\n",
       "9             72\n",
       "10            10\n",
       "11+            4\n",
       "Name: floor, dtype: int64"
      ]
     },
     "execution_count": 76,
     "metadata": {},
     "output_type": "execute_result"
    }
   ],
   "source": [
    "df['floor'] = df['floor'].astype(str)\n",
    "df['floor'] = df['floor'].apply(lambda x: x.split()[0])\n",
    "df.floor.value_counts()"
   ]
  },
  {
   "cell_type": "code",
   "execution_count": 77,
   "metadata": {},
   "outputs": [
    {
     "data": {
      "text/plain": [
       "1                2920\n",
       "2                2660\n",
       "3                2103\n",
       "Ground           1814\n",
       "NaN              1772\n",
       "4                1648\n",
       "5                1034\n",
       "Mezzanine         559\n",
       "6                 550\n",
       "Semi-basement     430\n",
       "7                 364\n",
       "8                 196\n",
       "Penthouse          90\n",
       "9                  72\n",
       "10                 10\n",
       "11+                 4\n",
       "Name: floor, dtype: int64"
      ]
     },
     "execution_count": 77,
     "metadata": {},
     "output_type": "execute_result"
    }
   ],
   "source": [
    "df['floor'] = df['floor'].apply(lambda x: x.replace('nan', 'NaN').replace('property', 'NaN').replace('T', 'Ground').replace('R', 'Mezzanine').replace('S', 'Semi-basement').replace('A', 'Penthouse'))\n",
    "df['floor'].value_counts()"
   ]
  },
  {
   "cell_type": "code",
   "execution_count": 78,
   "metadata": {},
   "outputs": [
    {
     "data": {
      "text/html": [
       "<div>\n",
       "<style scoped>\n",
       "    .dataframe tbody tr th:only-of-type {\n",
       "        vertical-align: middle;\n",
       "    }\n",
       "\n",
       "    .dataframe tbody tr th {\n",
       "        vertical-align: top;\n",
       "    }\n",
       "\n",
       "    .dataframe thead th {\n",
       "        text-align: right;\n",
       "    }\n",
       "</style>\n",
       "<table border=\"1\" class=\"dataframe\">\n",
       "  <thead>\n",
       "    <tr style=\"text-align: right;\">\n",
       "      <th></th>\n",
       "      <th>property</th>\n",
       "      <th>url</th>\n",
       "      <th>price</th>\n",
       "      <th>rooms</th>\n",
       "      <th>surface</th>\n",
       "      <th>bathrooms</th>\n",
       "      <th>floor</th>\n",
       "      <th>description</th>\n",
       "      <th>original_price</th>\n",
       "      <th>price_reduction</th>\n",
       "      <th>area</th>\n",
       "      <th>room_is_missing</th>\n",
       "      <th>bathroom_is_missing</th>\n",
       "    </tr>\n",
       "  </thead>\n",
       "  <tbody>\n",
       "    <tr>\n",
       "      <th>0</th>\n",
       "      <td>Penthouse via di Santa Maria della Speranza 11...</td>\n",
       "      <td>https://www.immobiliare.it/en/annunci/85455828/</td>\n",
       "      <td>235000.0</td>\n",
       "      <td>2.0</td>\n",
       "      <td>52.0</td>\n",
       "      <td>1</td>\n",
       "      <td>4</td>\n",
       "      <td>NaN</td>\n",
       "      <td>NaN</td>\n",
       "      <td>NaN</td>\n",
       "      <td>Nuovo Salario</td>\n",
       "      <td>0</td>\n",
       "      <td>0</td>\n",
       "    </tr>\n",
       "    <tr>\n",
       "      <th>1</th>\n",
       "      <td>3-room flat via Eugenio Torelli Viollier, Piet...</td>\n",
       "      <td>https://www.immobiliare.it/en/annunci/85452104/</td>\n",
       "      <td>238000.0</td>\n",
       "      <td>3.0</td>\n",
       "      <td>87.0</td>\n",
       "      <td>1</td>\n",
       "      <td>2</td>\n",
       "      <td>Tiburtina, apartment for sale adjacent to Larg...</td>\n",
       "      <td>NaN</td>\n",
       "      <td>NaN</td>\n",
       "      <td>Pietralata</td>\n",
       "      <td>0</td>\n",
       "      <td>0</td>\n",
       "    </tr>\n",
       "    <tr>\n",
       "      <th>2</th>\n",
       "      <td>2-room flat via Satrico, San Giovanni, Roma</td>\n",
       "      <td>https://www.immobiliare.it/en/annunci/85396286/</td>\n",
       "      <td>255000.0</td>\n",
       "      <td>2.0</td>\n",
       "      <td>60.0</td>\n",
       "      <td>1</td>\n",
       "      <td>5</td>\n",
       "      <td>S. Giovanni, Two-room apartment for sale on th...</td>\n",
       "      <td>NaN</td>\n",
       "      <td>NaN</td>\n",
       "      <td>San Giovanni</td>\n",
       "      <td>0</td>\n",
       "      <td>0</td>\n",
       "    </tr>\n",
       "    <tr>\n",
       "      <th>3</th>\n",
       "      <td>2-room flat piazza Giovanni da Triora, Garbate...</td>\n",
       "      <td>https://www.immobiliare.it/en/annunci/85393966/</td>\n",
       "      <td>245000.0</td>\n",
       "      <td>2.0</td>\n",
       "      <td>55.0</td>\n",
       "      <td>1</td>\n",
       "      <td>Mezzanine</td>\n",
       "      <td>NaN</td>\n",
       "      <td>NaN</td>\n",
       "      <td>NaN</td>\n",
       "      <td>Garbatella</td>\n",
       "      <td>0</td>\n",
       "      <td>0</td>\n",
       "    </tr>\n",
       "    <tr>\n",
       "      <th>4</th>\n",
       "      <td>Studio via Morlupo 13, Fleming, Roma</td>\n",
       "      <td>https://www.immobiliare.it/en/annunci/85282655/</td>\n",
       "      <td>109000.0</td>\n",
       "      <td>1.0</td>\n",
       "      <td>23.0</td>\n",
       "      <td>1</td>\n",
       "      <td>Ground</td>\n",
       "      <td>NaN</td>\n",
       "      <td>NaN</td>\n",
       "      <td>NaN</td>\n",
       "      <td>Fleming</td>\n",
       "      <td>0</td>\n",
       "      <td>0</td>\n",
       "    </tr>\n",
       "  </tbody>\n",
       "</table>\n",
       "</div>"
      ],
      "text/plain": [
       "                                            property  \\\n",
       "0  Penthouse via di Santa Maria della Speranza 11...   \n",
       "1  3-room flat via Eugenio Torelli Viollier, Piet...   \n",
       "2        2-room flat via Satrico, San Giovanni, Roma   \n",
       "3  2-room flat piazza Giovanni da Triora, Garbate...   \n",
       "4               Studio via Morlupo 13, Fleming, Roma   \n",
       "\n",
       "                                               url     price  rooms  surface  \\\n",
       "0  https://www.immobiliare.it/en/annunci/85455828/  235000.0    2.0     52.0   \n",
       "1  https://www.immobiliare.it/en/annunci/85452104/  238000.0    3.0     87.0   \n",
       "2  https://www.immobiliare.it/en/annunci/85396286/  255000.0    2.0     60.0   \n",
       "3  https://www.immobiliare.it/en/annunci/85393966/  245000.0    2.0     55.0   \n",
       "4  https://www.immobiliare.it/en/annunci/85282655/  109000.0    1.0     23.0   \n",
       "\n",
       "   bathrooms      floor                                        description  \\\n",
       "0          1          4                                                NaN   \n",
       "1          1          2  Tiburtina, apartment for sale adjacent to Larg...   \n",
       "2          1          5  S. Giovanni, Two-room apartment for sale on th...   \n",
       "3          1  Mezzanine                                                NaN   \n",
       "4          1     Ground                                                NaN   \n",
       "\n",
       "  original_price price_reduction            area  room_is_missing  \\\n",
       "0            NaN             NaN   Nuovo Salario                0   \n",
       "1            NaN             NaN      Pietralata                0   \n",
       "2            NaN             NaN    San Giovanni                0   \n",
       "3            NaN             NaN      Garbatella                0   \n",
       "4            NaN             NaN         Fleming                0   \n",
       "\n",
       "   bathroom_is_missing  \n",
       "0                    0  \n",
       "1                    0  \n",
       "2                    0  \n",
       "3                    0  \n",
       "4                    0  "
      ]
     },
     "execution_count": 78,
     "metadata": {},
     "output_type": "execute_result"
    }
   ],
   "source": [
    "df.head()"
   ]
  },
  {
   "cell_type": "markdown",
   "metadata": {},
   "source": [
    "### Original Price"
   ]
  },
  {
   "cell_type": "code",
   "execution_count": 79,
   "metadata": {},
   "outputs": [
    {
     "data": {
      "text/plain": [
       "€ 595.000    11\n",
       "€ 195.000     9\n",
       "€ 249.000     7\n",
       "€ 295.000     7\n",
       "€ 400.000     6\n",
       "             ..\n",
       "€ 249.075     1\n",
       "€ 390.000     1\n",
       "€ 490.000     1\n",
       "€ 316.000     1\n",
       "€ 445.000     1\n",
       "Name: original_price, Length: 191, dtype: int64"
      ]
     },
     "execution_count": 79,
     "metadata": {},
     "output_type": "execute_result"
    }
   ],
   "source": [
    "df.original_price.value_counts()"
   ]
  },
  {
   "cell_type": "code",
   "execution_count": 80,
   "metadata": {},
   "outputs": [
    {
     "data": {
      "text/plain": [
       "nan         15822\n",
       " 595000        11\n",
       " 195000         9\n",
       " 295000         7\n",
       " 249000         7\n",
       "            ...  \n",
       " 88000          1\n",
       " 305000         1\n",
       " 1080000        1\n",
       " 2800000        1\n",
       " 849000         1\n",
       "Name: original_price, Length: 192, dtype: int64"
      ]
     },
     "execution_count": 80,
     "metadata": {},
     "output_type": "execute_result"
    }
   ],
   "source": [
    "# Turn column to string and then remove extra characters\n",
    "df['original_price'] = df['original_price'].astype(str)\n",
    "df['original_price'] = df['original_price'].apply(lambda x: x.replace('€', '').replace('.', ''))\n",
    "df.original_price.value_counts()"
   ]
  },
  {
   "cell_type": "code",
   "execution_count": 81,
   "metadata": {},
   "outputs": [
    {
     "data": {
      "text/plain": [
       "299000.0     199\n",
       "350000.0     199\n",
       "249000.0     189\n",
       "395000.0     178\n",
       "295000.0     174\n",
       "            ... \n",
       "142000.0       1\n",
       "1165000.0      1\n",
       "341326.0       1\n",
       "43500.0        1\n",
       "1598000.0      1\n",
       "Name: original_price, Length: 1122, dtype: int64"
      ]
     },
     "execution_count": 81,
     "metadata": {},
     "output_type": "execute_result"
    }
   ],
   "source": [
    "# Most values are equal to nan, which means that there was no price variation. Therefore we will loop trough the column to set the nan  value equal to df.price values\n",
    "for item in df['original_price']:\n",
    "    if item == 'nan':\n",
    "        df['original_price'] = df['price']\n",
    "        \n",
    "df.original_price.value_counts()"
   ]
  },
  {
   "cell_type": "code",
   "execution_count": 82,
   "metadata": {},
   "outputs": [],
   "source": [
    "df['original_price'] = df['original_price'].astype(float)"
   ]
  },
  {
   "cell_type": "markdown",
   "metadata": {},
   "source": [
    "### Price reduction"
   ]
  },
  {
   "cell_type": "code",
   "execution_count": 83,
   "metadata": {},
   "outputs": [
    {
     "data": {
      "text/plain": [
       "(-5.4%)     21\n",
       "(-6.3%)     16\n",
       "(-5.1%)     16\n",
       "(-5.9%)     14\n",
       "(-5.8%)     13\n",
       "            ..\n",
       "(-13.3%)     1\n",
       "(-20.2%)     1\n",
       "(-19.5%)     1\n",
       "(-15.6%)     1\n",
       "(-13.1%)     1\n",
       "Name: price_reduction, Length: 102, dtype: int64"
      ]
     },
     "execution_count": 83,
     "metadata": {},
     "output_type": "execute_result"
    }
   ],
   "source": [
    "df.price_reduction.value_counts()"
   ]
  },
  {
   "cell_type": "code",
   "execution_count": 84,
   "metadata": {},
   "outputs": [
    {
     "data": {
      "text/plain": [
       "0           15822\n",
       "(-5.4%)        21\n",
       "(-6.3%)        16\n",
       "(-5.1%)        16\n",
       "(-5.9%)        14\n",
       "            ...  \n",
       "(-13.3%)        1\n",
       "(-20.2%)        1\n",
       "(-19.5%)        1\n",
       "(-15.6%)        1\n",
       "(-13.1%)        1\n",
       "Name: price_reduction, Length: 103, dtype: int64"
      ]
     },
     "execution_count": 84,
     "metadata": {},
     "output_type": "execute_result"
    }
   ],
   "source": [
    "df = df.fillna(value=0)\n",
    "df.price_reduction.value_counts()"
   ]
  },
  {
   "cell_type": "code",
   "execution_count": 85,
   "metadata": {},
   "outputs": [
    {
     "data": {
      "text/plain": [
       "0.0     15822\n",
       "5.4        21\n",
       "6.3        16\n",
       "5.1        16\n",
       "5.9        14\n",
       "        ...  \n",
       "10.4        1\n",
       "18.2        1\n",
       "15.5        1\n",
       "13.6        1\n",
       "14.6        1\n",
       "Name: price_reduction, Length: 103, dtype: int64"
      ]
     },
     "execution_count": 85,
     "metadata": {},
     "output_type": "execute_result"
    }
   ],
   "source": [
    "# Remove all special characters from the column\n",
    "df['price_reduction'] = df['price_reduction'].astype(str)\n",
    "df['price_reduction'] = df['price_reduction'].apply(lambda x: x.replace('(', '').replace('-', '').replace('%', '').replace(')', ''))\n",
    "df['price_reduction'] = df['price_reduction'].astype(float)\n",
    "df.price_reduction.value_counts()"
   ]
  },
  {
   "cell_type": "code",
   "execution_count": 86,
   "metadata": {},
   "outputs": [
    {
     "data": {
      "text/html": [
       "<div>\n",
       "<style scoped>\n",
       "    .dataframe tbody tr th:only-of-type {\n",
       "        vertical-align: middle;\n",
       "    }\n",
       "\n",
       "    .dataframe tbody tr th {\n",
       "        vertical-align: top;\n",
       "    }\n",
       "\n",
       "    .dataframe thead th {\n",
       "        text-align: right;\n",
       "    }\n",
       "</style>\n",
       "<table border=\"1\" class=\"dataframe\">\n",
       "  <thead>\n",
       "    <tr style=\"text-align: right;\">\n",
       "      <th></th>\n",
       "      <th>property</th>\n",
       "      <th>url</th>\n",
       "      <th>price</th>\n",
       "      <th>rooms</th>\n",
       "      <th>surface</th>\n",
       "      <th>bathrooms</th>\n",
       "      <th>floor</th>\n",
       "      <th>description</th>\n",
       "      <th>original_price</th>\n",
       "      <th>price_reduction</th>\n",
       "      <th>area</th>\n",
       "      <th>room_is_missing</th>\n",
       "      <th>bathroom_is_missing</th>\n",
       "    </tr>\n",
       "  </thead>\n",
       "  <tbody>\n",
       "    <tr>\n",
       "      <th>0</th>\n",
       "      <td>Penthouse via di Santa Maria della Speranza 11...</td>\n",
       "      <td>https://www.immobiliare.it/en/annunci/85455828/</td>\n",
       "      <td>235000.0</td>\n",
       "      <td>2.0</td>\n",
       "      <td>52.0</td>\n",
       "      <td>1</td>\n",
       "      <td>4</td>\n",
       "      <td>0</td>\n",
       "      <td>235000.0</td>\n",
       "      <td>0.0</td>\n",
       "      <td>Nuovo Salario</td>\n",
       "      <td>0</td>\n",
       "      <td>0</td>\n",
       "    </tr>\n",
       "    <tr>\n",
       "      <th>1</th>\n",
       "      <td>3-room flat via Eugenio Torelli Viollier, Piet...</td>\n",
       "      <td>https://www.immobiliare.it/en/annunci/85452104/</td>\n",
       "      <td>238000.0</td>\n",
       "      <td>3.0</td>\n",
       "      <td>87.0</td>\n",
       "      <td>1</td>\n",
       "      <td>2</td>\n",
       "      <td>Tiburtina, apartment for sale adjacent to Larg...</td>\n",
       "      <td>238000.0</td>\n",
       "      <td>0.0</td>\n",
       "      <td>Pietralata</td>\n",
       "      <td>0</td>\n",
       "      <td>0</td>\n",
       "    </tr>\n",
       "    <tr>\n",
       "      <th>2</th>\n",
       "      <td>2-room flat via Satrico, San Giovanni, Roma</td>\n",
       "      <td>https://www.immobiliare.it/en/annunci/85396286/</td>\n",
       "      <td>255000.0</td>\n",
       "      <td>2.0</td>\n",
       "      <td>60.0</td>\n",
       "      <td>1</td>\n",
       "      <td>5</td>\n",
       "      <td>S. Giovanni, Two-room apartment for sale on th...</td>\n",
       "      <td>255000.0</td>\n",
       "      <td>0.0</td>\n",
       "      <td>San Giovanni</td>\n",
       "      <td>0</td>\n",
       "      <td>0</td>\n",
       "    </tr>\n",
       "    <tr>\n",
       "      <th>3</th>\n",
       "      <td>2-room flat piazza Giovanni da Triora, Garbate...</td>\n",
       "      <td>https://www.immobiliare.it/en/annunci/85393966/</td>\n",
       "      <td>245000.0</td>\n",
       "      <td>2.0</td>\n",
       "      <td>55.0</td>\n",
       "      <td>1</td>\n",
       "      <td>Mezzanine</td>\n",
       "      <td>0</td>\n",
       "      <td>245000.0</td>\n",
       "      <td>0.0</td>\n",
       "      <td>Garbatella</td>\n",
       "      <td>0</td>\n",
       "      <td>0</td>\n",
       "    </tr>\n",
       "    <tr>\n",
       "      <th>4</th>\n",
       "      <td>Studio via Morlupo 13, Fleming, Roma</td>\n",
       "      <td>https://www.immobiliare.it/en/annunci/85282655/</td>\n",
       "      <td>109000.0</td>\n",
       "      <td>1.0</td>\n",
       "      <td>23.0</td>\n",
       "      <td>1</td>\n",
       "      <td>Ground</td>\n",
       "      <td>0</td>\n",
       "      <td>109000.0</td>\n",
       "      <td>0.0</td>\n",
       "      <td>Fleming</td>\n",
       "      <td>0</td>\n",
       "      <td>0</td>\n",
       "    </tr>\n",
       "  </tbody>\n",
       "</table>\n",
       "</div>"
      ],
      "text/plain": [
       "                                            property  \\\n",
       "0  Penthouse via di Santa Maria della Speranza 11...   \n",
       "1  3-room flat via Eugenio Torelli Viollier, Piet...   \n",
       "2        2-room flat via Satrico, San Giovanni, Roma   \n",
       "3  2-room flat piazza Giovanni da Triora, Garbate...   \n",
       "4               Studio via Morlupo 13, Fleming, Roma   \n",
       "\n",
       "                                               url     price  rooms  surface  \\\n",
       "0  https://www.immobiliare.it/en/annunci/85455828/  235000.0    2.0     52.0   \n",
       "1  https://www.immobiliare.it/en/annunci/85452104/  238000.0    3.0     87.0   \n",
       "2  https://www.immobiliare.it/en/annunci/85396286/  255000.0    2.0     60.0   \n",
       "3  https://www.immobiliare.it/en/annunci/85393966/  245000.0    2.0     55.0   \n",
       "4  https://www.immobiliare.it/en/annunci/85282655/  109000.0    1.0     23.0   \n",
       "\n",
       "   bathrooms      floor                                        description  \\\n",
       "0          1          4                                                  0   \n",
       "1          1          2  Tiburtina, apartment for sale adjacent to Larg...   \n",
       "2          1          5  S. Giovanni, Two-room apartment for sale on th...   \n",
       "3          1  Mezzanine                                                  0   \n",
       "4          1     Ground                                                  0   \n",
       "\n",
       "   original_price  price_reduction            area  room_is_missing  \\\n",
       "0        235000.0              0.0   Nuovo Salario                0   \n",
       "1        238000.0              0.0      Pietralata                0   \n",
       "2        255000.0              0.0    San Giovanni                0   \n",
       "3        245000.0              0.0      Garbatella                0   \n",
       "4        109000.0              0.0         Fleming                0   \n",
       "\n",
       "   bathroom_is_missing  \n",
       "0                    0  \n",
       "1                    0  \n",
       "2                    0  \n",
       "3                    0  \n",
       "4                    0  "
      ]
     },
     "execution_count": 86,
     "metadata": {},
     "output_type": "execute_result"
    }
   ],
   "source": [
    "df.head()"
   ]
  },
  {
   "cell_type": "code",
   "execution_count": 87,
   "metadata": {},
   "outputs": [
    {
     "data": {
      "text/plain": [
       "property                object\n",
       "url                     object\n",
       "price                  float64\n",
       "rooms                  float64\n",
       "surface                float64\n",
       "bathrooms                int32\n",
       "floor                   object\n",
       "description             object\n",
       "original_price         float64\n",
       "price_reduction        float64\n",
       "area                    object\n",
       "room_is_missing          int64\n",
       "bathroom_is_missing      int64\n",
       "dtype: object"
      ]
     },
     "execution_count": 87,
     "metadata": {},
     "output_type": "execute_result"
    }
   ],
   "source": [
    "df.dtypes"
   ]
  },
  {
   "cell_type": "code",
   "execution_count": 110,
   "metadata": {},
   "outputs": [
    {
     "data": {
      "text/plain": [
       "Description not available                                                                                                                                                                                                                                                                                                                                                                                                                                                                                                                                                                                                                                                                                                                                                                                                                                                                                                                                                                                                                                                                                                                                                                                                                                                                                                                                                                                                                 11762\n",
       "Casa Service Plus offers in Rome in via Angelo Bellani in Trastevere, an apartment on the first floor of a building of seven, bright with double exposure. The apartment has an area of 110 square meters and consists of an entrance hall, a living room overlooking the balcony, living room, bedroom, bedroom, kitchen and bathroom. The apartment is in need of renovation, the exposure is parallel to the south and north, and has a well-distributed and functional internal division that is easy to modify. The property has central heating with thermostatic valves. The apartment is located in an elegant setting, near the Lungotevere degli Artigiani, close to services and shops and a stone's throw from Testaccio. The property is an excellent solution as an investment or as a first home !!! For info call the toll-free number 800 980 455 (free also from mobile) or the number 00393775431607. Ref: RAB- 315-Rm                                                                                                                                                                                                                                                                                                                                                                                                                                                                                                     6\n",
       "In the heart of the Prati district, a few steps from Castel Sant 'Angelo and located exactly in Via Crescenzio, in a prestigious period building, with concierge service for the whole day, we propose the sale of an elegant apartment on the second floor of 127 sqm commercial, internally composed of large entrance hall, five bedrooms, two bathrooms and large closet. The apartment is renovated with refined wood paneling, parquet flooring in all rooms and enjoys double views of Via Crescenzio and two internal courtyards where motorcycles can be parked. It is located in a central area, well connected by public transport and full of services. Also excellent as a hotel . Euro 790.000 It is hereby disclosed that this information and images do not constitute a contractual element but have exclusive illustrative character.                                                                                                                                                                                                                                                                                                                                                                                                                                                                                                                                                                                       6\n",
       "The Giardino di Faonte residential centre is located between the Talenti and Monte Sacro districts and between two green areas: the archaeological area of the historic Villa di Faonte, intended for museum area and public green area of the new city park. We offer the sale of an apartment composed of living/bedroom with kitchenette, bathroom, balcony euro 165.000,00. Ready to be delivered. Possibility max 80% loan at fixed or variable rate. www.immobildream.it TEL: 06.684028                                                                                                                                                                                                                                                                                                                                                                                                                                                                                                                                                                                                                                                                                                                                                                                                                                                                                                                                                 5\n",
       "In the prestigious and innovative residential Residences Sun City, between Piazza Bologna and Tiburtina station, latest availability of urban villas on three levels: the level (3rd floor): living room with kitchenette, bathroom and anti bathroom and balcony. Second level (4th floor): bedroom with bathroom inside, 2 bedrooms with balcony, bathroom. III level (V floor): 52 m² terrace. Possibility of car garage and covered parking spaces. The urban villas have been designed in such a way as to ensure spacious and well proportioned, character actor striking is the third and last floor of the villa, entirely devoted to the deck, so as to become the real essence of living in villa, ideal space from which dominate the city context. All the apartments for sale are brand new and built with modern fixtures and fittings, equipped with solar panels, solar panels, underfloor heating, fixtures in total thermal resistance, parquet floors in all rooms, home automation system, video intercom, air conditioning, burglar alarm. The whole place is in A + energy class. Sun City aspires to be a benchmark for contemporary architecture and city planning, respecting the history of the city, but with the desire to achieve unprecedented achievements in terms of aesthetics and eco-sustainability. Winner of the prestigious \"mattone d'Oro 2010\" as the best urban renovation project in Italy.        5\n",
       "                                                                                                                                                                                                                                                                                                                                                                                                                                                                                                                                                                                                                                                                                                                                                                                                                                                                                                                                                                                                                                                                                                                                                                                                                                                                                                                                                                                                                                          ...  \n",
       "Near Piazza Sempione, in Città Giardino Area, historical section of Montesacro district, Engel & Völkers offers for sale an elegant panoramic penthouse, bright, quiet and completely renovated. The property is located in a building with a few real estate units built in the 1930s which externally maintains the style of the time. The apartment located on the third, fourth and fifth floors overlooks all four sides and is composed of: an entrance to the third floor; a bedroom with custom-made wooden furniture, a built-in wardrobe, an open kitchen, a bathroom, a closet, a terrace on the fourth floor and an additional terrace on the fifth floor. The completely renovated apartment has terracotta floors, double glazed windows and PVC wood, independent heating, enjoys excellent brightness and an effective division between the sleeping area, it’s also excellent for investment use. The view of the two large terraces is very pleasant, exclusive and panoramic. All the basic necessities are present in the immediate vicinity (pharmacies, schools, supermarkets, post offices, banks, town hall), the location is also excellent for the Atac public service, given the presence of the bus terminus and the B1 Conca D'Oro stop. *The present informations and floor plans are purely indicative and do not constitute contractual elements. Rif. W-02IFQJ - Gael Ceravolo - Tel. 06 45 54 81 20.        1\n",
       "Via dell'Arco della Ciambella. In a period building in good condition, we offer the sale of an apartment consisting of: entrance hall, lounge with access to the large terrace, open kitchen, bedroom and two bathrooms. The property is in good condition characterized by terracotta flooring, ceilings with wooden beams and air conditioning. We are located in the heart of the historic center, a stone's throw from the Pantheon, the Chiostro del Bramante and the archaeological area of Largo Argentina.                                                                                                                                                                                                                                                                                                                                                                                                                                                                                                                                                                                                                                                                                                                                                                                                                                                                                                                            1\n",
       "Piazza Euclide - 200 sqm apartment, on the 1st floor with lift, comprising entrance hall, large living room, dining room, guest bathroom, 3 bedrooms, service area with large kitchen, bedroom and bathroom. Beautiful finishes. This information and plans are purely indicative and do not constitute contractual elements.--01400d6560e92182c6faa027f5da4d64!                                                                                                                                                                                                                                                                                                                                                                                                                                                                                                                                                                                                                                                                                                                                                                                                                                                                                                                                                                                                                                                                              1\n",
       "TUA RE Historic Center (Piazza Campo de 'Fiori) UNIQUE INVESTMENT, delightful studio apartment with LARGE habitable TERRACE, finely RENOVATED, living / sleeping area with kitchenette and service. (Ref. 226 / st) www.tuare.it Note: The property is located in Via del Pellegrino height Campo de 'Fiori in a period building, it is located on the 2nd floor and internally it has been completely and finely renovated with quality materials and design. Internally we find an environment with exposed beams and kitchenette, access to the service and exit to the delightful and reserved large terrace. Www.tuare.it                                                                                                                                                                                                                                                                                                                                                                                                                                                                                                                                                                                                                                                                                                                                                                                                                1\n",
       "KEYHOUSE ROME EUR TORRINO - VIALE DEGLI ASTRI: within an elegant residential complex, in an area served by shops, schools and public transport, we offer for sale an apartment in excellent condition, located on the second floor, consisting of living room, bedroom, kitchenette, bathroom and terrace. The property includes a comfortable garage. € 299,000.00 (Ref. 94/20).                                                                                                                                                                                                                                                                                                                                                                                                                                                                                                                                                                                                                                                                                                                                                                                                                                                                                                                                                                                                                                                             1\n",
       "Name: description, Length: 4337, dtype: int64"
      ]
     },
     "execution_count": 110,
     "metadata": {},
     "output_type": "execute_result"
    }
   ],
   "source": [
    "# Replace not nan values with a string\n",
    "df['description'] = df['description'].apply(lambda x: 'Description not available' if x ==0 else x)\n",
    "df['description'] = df['description'].astype(str)\n",
    "df.description.value_counts()"
   ]
  }
 ],
 "metadata": {
  "kernelspec": {
   "display_name": "Python 3",
   "language": "python",
   "name": "python3"
  },
  "language_info": {
   "codemirror_mode": {
    "name": "ipython",
    "version": 3
   },
   "file_extension": ".py",
   "mimetype": "text/x-python",
   "name": "python",
   "nbconvert_exporter": "python",
   "pygments_lexer": "ipython3",
   "version": "3.8.2"
  }
 },
 "nbformat": 4,
 "nbformat_minor": 4
}
